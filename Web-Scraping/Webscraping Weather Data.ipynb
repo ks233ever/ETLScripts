{
 "cells": [
  {
   "cell_type": "markdown",
   "metadata": {},
   "source": [
    "Checking out the weather forecast for the next 4 days in Arlington, VA"
   ]
  },
  {
   "cell_type": "code",
   "execution_count": 1,
   "metadata": {},
   "outputs": [],
   "source": [
    "import requests\n",
    "from bs4 import BeautifulSoup\n",
    "import numpy as np\n",
    "import pandas as pd\n",
    "import matplotlib.pyplot as plt\n",
    "%matplotlib inline"
   ]
  },
  {
   "cell_type": "code",
   "execution_count": 2,
   "metadata": {},
   "outputs": [
    {
     "name": "stdout",
     "output_type": "stream",
     "text": [
      "<div class=\"tombstone-container\">\n",
      " <p class=\"period-name\">\n",
      "  NOW until\n",
      "  <br/>\n",
      "  1:00pm Sat\n",
      " </p>\n",
      " <p>\n",
      "  <img alt=\"\" class=\"forecast-icon\" src=\"newimages/medium/nshra.png\" title=\"\"/>\n",
      " </p>\n",
      " <p class=\"short-desc\">\n",
      "  Coastal Flood Advisory\n",
      " </p>\n",
      "</div>\n"
     ]
    }
   ],
   "source": [
    "# download the web page containing forecast\n",
    "page = requests.get(\"https://forecast.weather.gov/MapClick.php?lat=38.8905&lon=-77.0863#.XLp5aOhKjIU\")\n",
    "\n",
    "# create BS object to parse the page\n",
    "soup = BeautifulSoup(page.content, 'html.parser')\n",
    "\n",
    "# find the div with id seven-day-forecast\n",
    "seven_day = soup.find(id=\"seven-day-forecast\")\n",
    "\n",
    "# find the individ forecast items inside seven_day\n",
    "forecast_items = seven_day.find_all(class_=\"tombstone-container\")\n",
    "\n",
    "# print the first forecast item\n",
    "tonight = forecast_items[0]\n",
    "print(tonight.prettify())"
   ]
  },
  {
   "cell_type": "code",
   "execution_count": 3,
   "metadata": {},
   "outputs": [
    {
     "data": {
      "text/plain": [
       "['NOW until1:00pm Sat',\n",
       " 'Tonight',\n",
       " 'Saturday',\n",
       " 'SaturdayNight',\n",
       " 'Sunday',\n",
       " 'SundayNight',\n",
       " 'Monday',\n",
       " 'MondayNight',\n",
       " 'Tuesday']"
      ]
     },
     "execution_count": 3,
     "metadata": {},
     "output_type": "execute_result"
    }
   ],
   "source": [
    "# Select all items with the class period-name inside an item with the class tombstone-container in seven_day.\n",
    "\n",
    "period_tags = seven_day.select(\".tombstone-container .period-name\")\n",
    "periods = [pt.get_text() for pt in period_tags]\n",
    "periods"
   ]
  },
  {
   "cell_type": "code",
   "execution_count": 4,
   "metadata": {},
   "outputs": [
    {
     "name": "stdout",
     "output_type": "stream",
     "text": [
      "['Coastal Flood Advisory', 'ScatteredShowers', 'Slight ChanceShowers thenPartly Sunny', 'Mostly Cloudythen ChanceShowers', 'ChanceShowers', 'ChanceShowers', 'Slight ChanceShowers', 'Partly Cloudy', 'Mostly Sunny']\n",
      "['Low: 61 °F', 'High: 71 °F', 'Low: 51 °F', 'High: 65 °F', 'Low: 50 °F', 'High: 71 °F', 'Low: 56 °F', 'High: 80 °F']\n",
      "['', 'Tonight: Scattered showers.  Cloudy, with a low around 61. Southeast wind around 15 mph, with gusts as high as 30 mph.  Chance of precipitation is 40%.', 'Saturday: A slight chance of showers before 11am.  Cloudy, then gradually becoming mostly sunny, with a high near 71. South wind 15 to 18 mph, with gusts as high as 36 mph.  Chance of precipitation is 20%.', 'Saturday Night: A chance of showers after 2am.  Mostly cloudy, with a low around 51. South wind 6 to 11 mph becoming light. Winds could gust as high as 22 mph.  Chance of precipitation is 30%.', 'Sunday: A chance of showers.  Mostly cloudy, with a high near 65. Southwest wind 5 to 7 mph.  Chance of precipitation is 40%.', 'Sunday Night: A chance of showers.  Mostly cloudy, with a low around 50. West wind 3 to 5 mph.  Chance of precipitation is 40%.', 'Monday: A slight chance of showers.  Partly sunny, with a high near 71. Chance of precipitation is 20%.', 'Monday Night: Partly cloudy, with a low around 56.', 'Tuesday: Mostly sunny, with a high near 80.']\n"
     ]
    }
   ],
   "source": [
    "# grabbing the 3 other fields -- short-desc, temp and img\n",
    "\n",
    "short_descs = [sd.get_text() for sd in seven_day.select(\".tombstone-container .short-desc\")]\n",
    "temps = [t.get_text() for t in seven_day.select(\".tombstone-container .temp\")]\n",
    "descs = [d[\"title\"] for d in seven_day.select(\".tombstone-container img\")]\n",
    "print(short_descs)\n",
    "print(temps)\n",
    "print(descs)"
   ]
  },
  {
   "cell_type": "code",
   "execution_count": 5,
   "metadata": {},
   "outputs": [],
   "source": [
    "# no temp data for first period\n",
    "\n",
    "temps.insert(0, np.nan)"
   ]
  },
  {
   "cell_type": "code",
   "execution_count": 6,
   "metadata": {},
   "outputs": [
    {
     "data": {
      "text/html": [
       "<div>\n",
       "<style scoped>\n",
       "    .dataframe tbody tr th:only-of-type {\n",
       "        vertical-align: middle;\n",
       "    }\n",
       "\n",
       "    .dataframe tbody tr th {\n",
       "        vertical-align: top;\n",
       "    }\n",
       "\n",
       "    .dataframe thead th {\n",
       "        text-align: right;\n",
       "    }\n",
       "</style>\n",
       "<table border=\"1\" class=\"dataframe\">\n",
       "  <thead>\n",
       "    <tr style=\"text-align: right;\">\n",
       "      <th></th>\n",
       "      <th>period</th>\n",
       "      <th>short_desc</th>\n",
       "      <th>temp</th>\n",
       "      <th>desc</th>\n",
       "    </tr>\n",
       "  </thead>\n",
       "  <tbody>\n",
       "    <tr>\n",
       "      <th>0</th>\n",
       "      <td>Tonight</td>\n",
       "      <td>ScatteredShowers</td>\n",
       "      <td>Low: 61 °F</td>\n",
       "      <td>Tonight: Scattered showers.  Cloudy, with a lo...</td>\n",
       "    </tr>\n",
       "    <tr>\n",
       "      <th>1</th>\n",
       "      <td>Saturday</td>\n",
       "      <td>Slight ChanceShowers thenPartly Sunny</td>\n",
       "      <td>High: 71 °F</td>\n",
       "      <td>Saturday: A slight chance of showers before 11...</td>\n",
       "    </tr>\n",
       "    <tr>\n",
       "      <th>2</th>\n",
       "      <td>SaturdayNight</td>\n",
       "      <td>Mostly Cloudythen ChanceShowers</td>\n",
       "      <td>Low: 51 °F</td>\n",
       "      <td>Saturday Night: A chance of showers after 2am....</td>\n",
       "    </tr>\n",
       "    <tr>\n",
       "      <th>3</th>\n",
       "      <td>Sunday</td>\n",
       "      <td>ChanceShowers</td>\n",
       "      <td>High: 65 °F</td>\n",
       "      <td>Sunday: A chance of showers.  Mostly cloudy, w...</td>\n",
       "    </tr>\n",
       "    <tr>\n",
       "      <th>4</th>\n",
       "      <td>SundayNight</td>\n",
       "      <td>ChanceShowers</td>\n",
       "      <td>Low: 50 °F</td>\n",
       "      <td>Sunday Night: A chance of showers.  Mostly clo...</td>\n",
       "    </tr>\n",
       "    <tr>\n",
       "      <th>5</th>\n",
       "      <td>Monday</td>\n",
       "      <td>Slight ChanceShowers</td>\n",
       "      <td>High: 71 °F</td>\n",
       "      <td>Monday: A slight chance of showers.  Partly su...</td>\n",
       "    </tr>\n",
       "    <tr>\n",
       "      <th>6</th>\n",
       "      <td>MondayNight</td>\n",
       "      <td>Partly Cloudy</td>\n",
       "      <td>Low: 56 °F</td>\n",
       "      <td>Monday Night: Partly cloudy, with a low around...</td>\n",
       "    </tr>\n",
       "    <tr>\n",
       "      <th>7</th>\n",
       "      <td>Tuesday</td>\n",
       "      <td>Mostly Sunny</td>\n",
       "      <td>High: 80 °F</td>\n",
       "      <td>Tuesday: Mostly sunny, with a high near 80.</td>\n",
       "    </tr>\n",
       "  </tbody>\n",
       "</table>\n",
       "</div>"
      ],
      "text/plain": [
       "          period                             short_desc         temp  \\\n",
       "0        Tonight                       ScatteredShowers   Low: 61 °F   \n",
       "1       Saturday  Slight ChanceShowers thenPartly Sunny  High: 71 °F   \n",
       "2  SaturdayNight        Mostly Cloudythen ChanceShowers   Low: 51 °F   \n",
       "3         Sunday                          ChanceShowers  High: 65 °F   \n",
       "4    SundayNight                          ChanceShowers   Low: 50 °F   \n",
       "5         Monday                   Slight ChanceShowers  High: 71 °F   \n",
       "6    MondayNight                          Partly Cloudy   Low: 56 °F   \n",
       "7        Tuesday                           Mostly Sunny  High: 80 °F   \n",
       "\n",
       "                                                desc  \n",
       "0  Tonight: Scattered showers.  Cloudy, with a lo...  \n",
       "1  Saturday: A slight chance of showers before 11...  \n",
       "2  Saturday Night: A chance of showers after 2am....  \n",
       "3  Sunday: A chance of showers.  Mostly cloudy, w...  \n",
       "4  Sunday Night: A chance of showers.  Mostly clo...  \n",
       "5  Monday: A slight chance of showers.  Partly su...  \n",
       "6  Monday Night: Partly cloudy, with a low around...  \n",
       "7        Tuesday: Mostly sunny, with a high near 80.  "
      ]
     },
     "execution_count": 6,
     "metadata": {},
     "output_type": "execute_result"
    }
   ],
   "source": [
    "# creating a dataframe\n",
    "\n",
    "import pandas as pd\n",
    "weather = pd.DataFrame({\n",
    "        \"period\": periods[1:],\n",
    "         \"short_desc\": short_descs[1:],\n",
    "         \"temp\": temps[1:],\n",
    "         \"desc\":descs[1:]\n",
    "    })\n",
    "weather"
   ]
  },
  {
   "cell_type": "code",
   "execution_count": 7,
   "metadata": {},
   "outputs": [
    {
     "data": {
      "text/plain": [
       "0    61\n",
       "1    71\n",
       "2    51\n",
       "3    65\n",
       "4    50\n",
       "5    71\n",
       "6    56\n",
       "7    80\n",
       "Name: temp_num, dtype: object"
      ]
     },
     "execution_count": 7,
     "metadata": {},
     "output_type": "execute_result"
    }
   ],
   "source": [
    "# grabbing the numeric temps for some data analysis\n",
    "temp_nums = weather[\"temp\"].str.extract(\"(?P<temp_num>\\d+)\", expand=False)\n",
    "weather[\"temp_num\"] = temp_nums.astype('int')\n",
    "temp_nums"
   ]
  },
  {
   "cell_type": "code",
   "execution_count": 8,
   "metadata": {},
   "outputs": [
    {
     "data": {
      "text/html": [
       "<div>\n",
       "<style scoped>\n",
       "    .dataframe tbody tr th:only-of-type {\n",
       "        vertical-align: middle;\n",
       "    }\n",
       "\n",
       "    .dataframe tbody tr th {\n",
       "        vertical-align: top;\n",
       "    }\n",
       "\n",
       "    .dataframe thead th {\n",
       "        text-align: right;\n",
       "    }\n",
       "</style>\n",
       "<table border=\"1\" class=\"dataframe\">\n",
       "  <thead>\n",
       "    <tr style=\"text-align: right;\">\n",
       "      <th></th>\n",
       "      <th>period</th>\n",
       "      <th>short_desc</th>\n",
       "      <th>temp</th>\n",
       "      <th>desc</th>\n",
       "      <th>temp_num</th>\n",
       "    </tr>\n",
       "  </thead>\n",
       "  <tbody>\n",
       "    <tr>\n",
       "      <th>0</th>\n",
       "      <td>Tonight</td>\n",
       "      <td>ScatteredShowers</td>\n",
       "      <td>Low: 61 °F</td>\n",
       "      <td>Tonight: Scattered showers.  Cloudy, with a lo...</td>\n",
       "      <td>61</td>\n",
       "    </tr>\n",
       "    <tr>\n",
       "      <th>1</th>\n",
       "      <td>Saturday</td>\n",
       "      <td>Slight ChanceShowers thenPartly Sunny</td>\n",
       "      <td>High: 71 °F</td>\n",
       "      <td>Saturday: A slight chance of showers before 11...</td>\n",
       "      <td>71</td>\n",
       "    </tr>\n",
       "    <tr>\n",
       "      <th>2</th>\n",
       "      <td>SaturdayNight</td>\n",
       "      <td>Mostly Cloudythen ChanceShowers</td>\n",
       "      <td>Low: 51 °F</td>\n",
       "      <td>Saturday Night: A chance of showers after 2am....</td>\n",
       "      <td>51</td>\n",
       "    </tr>\n",
       "    <tr>\n",
       "      <th>3</th>\n",
       "      <td>Sunday</td>\n",
       "      <td>ChanceShowers</td>\n",
       "      <td>High: 65 °F</td>\n",
       "      <td>Sunday: A chance of showers.  Mostly cloudy, w...</td>\n",
       "      <td>65</td>\n",
       "    </tr>\n",
       "    <tr>\n",
       "      <th>4</th>\n",
       "      <td>SundayNight</td>\n",
       "      <td>ChanceShowers</td>\n",
       "      <td>Low: 50 °F</td>\n",
       "      <td>Sunday Night: A chance of showers.  Mostly clo...</td>\n",
       "      <td>50</td>\n",
       "    </tr>\n",
       "  </tbody>\n",
       "</table>\n",
       "</div>"
      ],
      "text/plain": [
       "          period                             short_desc         temp  \\\n",
       "0        Tonight                       ScatteredShowers   Low: 61 °F   \n",
       "1       Saturday  Slight ChanceShowers thenPartly Sunny  High: 71 °F   \n",
       "2  SaturdayNight        Mostly Cloudythen ChanceShowers   Low: 51 °F   \n",
       "3         Sunday                          ChanceShowers  High: 65 °F   \n",
       "4    SundayNight                          ChanceShowers   Low: 50 °F   \n",
       "\n",
       "                                                desc  temp_num  \n",
       "0  Tonight: Scattered showers.  Cloudy, with a lo...        61  \n",
       "1  Saturday: A slight chance of showers before 11...        71  \n",
       "2  Saturday Night: A chance of showers after 2am....        51  \n",
       "3  Sunday: A chance of showers.  Mostly cloudy, w...        65  \n",
       "4  Sunday Night: A chance of showers.  Mostly clo...        50  "
      ]
     },
     "execution_count": 8,
     "metadata": {},
     "output_type": "execute_result"
    }
   ],
   "source": [
    "weather.head()"
   ]
  },
  {
   "cell_type": "code",
   "execution_count": 9,
   "metadata": {},
   "outputs": [
    {
     "data": {
      "text/plain": [
       "63.125"
      ]
     },
     "execution_count": 9,
     "metadata": {},
     "output_type": "execute_result"
    }
   ],
   "source": [
    "weather['temp_num'].mean()"
   ]
  },
  {
   "cell_type": "code",
   "execution_count": 10,
   "metadata": {},
   "outputs": [
    {
     "data": {
      "text/plain": [
       "Text(0.5, 1.0, 'Temperatures Across Periods')"
      ]
     },
     "execution_count": 10,
     "metadata": {},
     "output_type": "execute_result"
    },
    {
     "data": {
      "image/png": "[encoded data removed]",
      "text/plain": [
       "<Figure size 720x432 with 1 Axes>"
      ]
     },
     "metadata": {
      "needs_background": "light"
     },
     "output_type": "display_data"
    }
   ],
   "source": [
    "plt.figure(figsize = (10,6))\n",
    "plt.tight_layout()\n",
    "plt.plot(weather['period'], weather['temp_num'])\n",
    "plt.xlabel('Period')\n",
    "plt.ylabel('Temperature (Degrees F)')\n",
    "plt.title('Temperatures Across Periods')"
   ]
  },
  {
   "cell_type": "code",
   "execution_count": null,
   "metadata": {},
   "outputs": [],
   "source": []
  }
 ],
 "metadata": {
  "kernelspec": {
   "display_name": "Python 3",
   "language": "python",
   "name": "python3"
  },
  "language_info": {
   "codemirror_mode": {
    "name": "ipython",
    "version": 3
   },
   "file_extension": ".py",
   "mimetype": "text/x-python",
   "name": "python",
   "nbconvert_exporter": "python",
   "pygments_lexer": "ipython3",
   "version": "3.6.4"
  }
 },
 "nbformat": 4,
 "nbformat_minor": 2
}
